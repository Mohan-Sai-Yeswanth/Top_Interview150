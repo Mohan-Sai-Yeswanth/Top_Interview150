{
 "cells": [
  {
   "cell_type": "markdown",
   "id": "25fe9200",
   "metadata": {},
   "source": [
    "## 1. Two Sum Problem\n",
    "\n",
    "\n",
    "Given an array of integers `nums` and an integer `target`, return indices of the two numbers such that they add up to `target`.\n",
    "\n",
    "You may assume that each input would have exactly one solution, and you may not use the same element twice.\n",
    "\n",
    "**Example:**\n",
    "```\n",
    "Input: nums = [2, 7, 11, 15], target = 9\n",
    "Output: [0, 1]\n",
    "Explanation: nums[0] + nums[1] = 2 + 7 = 9\n",
    "```\n",
    "        "
   ]
  },
  {
   "cell_type": "code",
   "execution_count": 9,
   "id": "c5a68a43",
   "metadata": {},
   "outputs": [
    {
     "name": "stdout",
     "output_type": "stream",
     "text": [
      "[0, 1]\n"
     ]
    }
   ],
   "source": [
    "# Write your solution here\n",
    "def two_sum(nums, target):\n",
    "    s = {}\n",
    "    for i,num in enumerate(nums):\n",
    "        c = target - num\n",
    "        if c in s:\n",
    "            return [s[c], i]\n",
    "        s[num] = i\n",
    "    return None\n",
    "\n",
    "nums = [2, 7, 11, 15]\n",
    "target = 9\n",
    "result = two_sum(nums, target)\n",
    "print(result)       "
   ]
  },
  {
   "cell_type": "code",
   "execution_count": null,
   "id": "6844c174-db8c-4c57-ad1c-aa88d45bc566",
   "metadata": {},
   "outputs": [],
   "source": []
  },
  {
   "cell_type": "markdown",
   "id": "ba275fec",
   "metadata": {},
   "source": [
    "## 2. Reverse a Linked List\n",
    "\n",
    "\n",
    "Given the head of a singly linked list, reverse the list and return the reversed list.\n",
    "\n",
    "**Example:**\n",
    "```\n",
    "Input: head = [1, 2, 3, 4, 5]\n",
    "Output: [5, 4, 3, 2, 1]\n",
    "```\n",
    "        "
   ]
  },
  {
   "cell_type": "code",
   "execution_count": 16,
   "id": "d61f8d71",
   "metadata": {},
   "outputs": [
    {
     "name": "stdout",
     "output_type": "stream",
     "text": [
      "5 4 3 2 1 "
     ]
    }
   ],
   "source": [
    "# Define your ListNode class and write the reverse function here\n",
    "class ListNode:\n",
    "    def __init__(self, val=0, next=None):\n",
    "        self.val = val\n",
    "        self.next = next\n",
    "def reverseList(head):\n",
    "    prev = None\n",
    "    curr = head\n",
    "    while curr:\n",
    "        next_node = curr.next\n",
    "        curr.next = prev\n",
    "        prev = curr\n",
    "        curr = next_node\n",
    "    return prev\n",
    "head = ListNode(1)\n",
    "head.next = ListNode(2)\n",
    "head.next.next = ListNode(3)\n",
    "head.next.next.next = ListNode(4)\n",
    "head.next.next.next.next = ListNode(5)\n",
    "new_head = reverseList(head)\n",
    "while new_head:\n",
    "    print(new_head.val,end=\" \")\n",
    "    new_head = new_head.next"
   ]
  },
  {
   "cell_type": "markdown",
   "id": "ddcb7da9",
   "metadata": {},
   "source": [
    "## 3. Longest Substring Without Repeating Characters\n",
    "\n",
    "\n",
    "Given a string `s`, find the length of the longest substring without repeating characters.\n",
    "\n",
    "**Example:**\n",
    "```\n",
    "Input: s = \"abcabcbb\"\n",
    "Output: 3\n",
    "Explanation: The answer is \"abc\", with a length of 3.\n",
    "```\n",
    "        "
   ]
  },
  {
   "cell_type": "code",
   "execution_count": 20,
   "id": "443c4283",
   "metadata": {},
   "outputs": [
    {
     "name": "stdout",
     "output_type": "stream",
     "text": [
      "2\n"
     ]
    }
   ],
   "source": [
    "# Write your solution here\n",
    "def length_of_longest_substring(s):\n",
    "    char_set = set()\n",
    "    l = 0\n",
    "    max_length = 0\n",
    "    for r in range(len(s)):\n",
    "        while s[r] in char_set:\n",
    "            char_set.remove(s[l])\n",
    "            l = l+1\n",
    "        char_set.add(s[r])\n",
    "        max_length = max(max_length, r - l + 1)\n",
    "    return max_length\n",
    "\n",
    "s = \"acaa\"\n",
    "res = length_of_longest_substring(s)\n",
    "print(res)\n"
   ]
  },
  {
   "cell_type": "markdown",
   "id": "6081558e",
   "metadata": {},
   "source": [
    "## 4. Merge Two Sorted Arrays\n",
    "\n",
    "\n",
    "You are given two integer arrays `nums1` and `nums2` sorted in non-decreasing order. Merge `nums2` into `nums1` as one sorted array.\n",
    "\n",
    "**Example:**\n",
    "```\n",
    "Input: nums1 = [1,2,3,0,0,0], m = 3, nums2 = [2,5,6], n = 3\n",
    "Output: [1,2,2,3,5,6]\n",
    "```\n",
    "        "
   ]
  },
  {
   "cell_type": "code",
   "execution_count": 21,
   "id": "29773881",
   "metadata": {},
   "outputs": [
    {
     "name": "stdout",
     "output_type": "stream",
     "text": [
      "[1, 2, 2, 3, 5, 6]\n"
     ]
    }
   ],
   "source": [
    "# Write your solution here\n",
    "def merge(nums1, m, nums2, n):\n",
    "    i = m-1\n",
    "    j = n-1\n",
    "    k = m+n-1\n",
    "    while i>=0 and j>=0:\n",
    "        if nums1[i]>nums2[j]:\n",
    "            nums1[k] = nums1[i]\n",
    "            i -=1\n",
    "        else:\n",
    "            nums1[k] = nums2[j]\n",
    "            j -=1\n",
    "        k -=1\n",
    "    while j>=0:\n",
    "        nums1[k] = nums2[j]\n",
    "        j -=1\n",
    "        k -=1\n",
    "    return nums1\n",
    "nums1 = [1,2,3,0,0,0]\n",
    "m = 3\n",
    "nums2 = [2,5,6]\n",
    "n = 3\n",
    "res = merge(nums1, m, nums2, n)\n",
    "print(res)"
   ]
  },
  {
   "cell_type": "markdown",
   "id": "7a020c71",
   "metadata": {},
   "source": [
    "## 5. Binary Tree Inorder Traversal\n",
    "\n",
    "\n",
    "Given the root of a binary tree, return the inorder traversal of its nodes' values.\n",
    "\n",
    "**Example:**\n",
    "```\n",
    "Input: root = [1,null,2,3]\n",
    "Output: [1,3,2]\n",
    "```\n",
    "        "
   ]
  },
  {
   "cell_type": "code",
   "execution_count": 22,
   "id": "b6e05c3e",
   "metadata": {},
   "outputs": [
    {
     "name": "stdout",
     "output_type": "stream",
     "text": [
      "[1, 3, 2]\n"
     ]
    }
   ],
   "source": [
    "# Define your TreeNode class and write the traversal function here\n",
    "class TreeNode:\n",
    "    def __init__(self, val=0, left=None, right=None):\n",
    "        self.val = val\n",
    "        self.left = left\n",
    "        self.right = right\n",
    "\n",
    "def inorder_traversal(root):\n",
    "    res= []\n",
    "    def traverse(node):\n",
    "        if node is None:\n",
    "            return\n",
    "        traverse(node.left)\n",
    "        res.append(node.val)\n",
    "        traverse(node.right)\n",
    "    traverse(root)\n",
    "    return res\n",
    "root = TreeNode(1)\n",
    "root.right = TreeNode(2)\n",
    "root.right.left = TreeNode(3)\n",
    "result = inorder_traversal(root)\n",
    "print(result)"
   ]
  },
  {
   "cell_type": "markdown",
   "id": "e34dadc5",
   "metadata": {},
   "source": [
    "## 6. Sum of Pairs Divisible by K\n",
    "\n",
    "\n",
    "Given an array of integers `a` and an integer `k`, calculate the number of ways to pick two different indices `i` and `j` such that `i < j` and `(a[i] + a[j]) % k == 0`.\n",
    "\n",
    "**Example:**\n",
    "```\n",
    "Input: a = [1, 2, 3, 4, 5], k = 3\n",
    "Output: 4\n",
    "Explanation: The pairs are:\n",
    "1. a[0] + a[1] = 1 + 2 = 3\n",
    "2. a[0] + a[4] = 1 + 5 = 6\n",
    "3. a[1] + a[3] = 2 + 4 = 6\n",
    "4. a[3] + a[4] = 4 + 5 = 9\n",
    "```\n",
    "        "
   ]
  },
  {
   "cell_type": "code",
   "execution_count": 27,
   "id": "f307de89",
   "metadata": {},
   "outputs": [
    {
     "name": "stdout",
     "output_type": "stream",
     "text": [
      "4\n"
     ]
    }
   ],
   "source": [
    "# Write your solution here\n",
    "def sum_divisible_by_k(a, k):\n",
    "    rem_count = {}\n",
    "    count = 0\n",
    "    for num in a:\n",
    "        remain = num%k\n",
    "        comp = (k-remain)%k\n",
    "        if comp in rem_count:\n",
    "            count += rem_count[comp]\n",
    "        if remain in rem_count:\n",
    "            rem_count[remain] += 1\n",
    "        else:\n",
    "            rem_count[remain] = 1\n",
    "    return count   \n",
    "a = [1, 2, 3, 4, 5]\n",
    "k = 3\n",
    "res = sum_divisible_by_k(a, k)\n",
    "print(res)\n",
    "    "
   ]
  },
  {
   "cell_type": "markdown",
   "id": "ef4b7ba7",
   "metadata": {},
   "source": [
    "## 7. Find Missing Number in Array\n",
    "\n",
    "\n",
    "Given an array containing `n` distinct numbers taken from `0, 1, 2, ..., n`, find the one that is missing from the array.\n",
    "\n",
    "**Example:**\n",
    "```\n",
    "Input: nums = [3, 0, 1]\n",
    "Output: 2\n",
    "Explanation: The missing number is 2.\n",
    "```\n",
    "        "
   ]
  },
  {
   "cell_type": "code",
   "execution_count": 2,
   "id": "62b35d37",
   "metadata": {},
   "outputs": [
    {
     "name": "stdout",
     "output_type": "stream",
     "text": [
      "2\n"
     ]
    }
   ],
   "source": [
    "# Write your solution here\n",
    "def missing_number(nums):\n",
    "    max_num = max(nums)\n",
    "    for i in range(max_num):\n",
    "        if i not in nums:\n",
    "            return i\n",
    "nums = [3, 0, 1]\n",
    "print(missing_number(nums))"
   ]
  },
  {
   "cell_type": "markdown",
   "id": "7abd98f4",
   "metadata": {},
   "source": [
    "## 8. Valid Parentheses\n",
    "\n",
    "\n",
    "Given a string `s` containing just the characters '(', ')', '{', '}', '[' and ']', determine if the input string is valid.\n",
    "\n",
    "An input string is valid if:\n",
    "1. Open brackets must be closed by the same type of brackets.\n",
    "2. Open brackets must be closed in the correct order.\n",
    "\n",
    "**Example:**\n",
    "```\n",
    "Input: s = \"()[]{}\"\n",
    "Output: true\n",
    "\n",
    "Input: s = \"(]\"\n",
    "Output: false\n",
    "```\n",
    "        "
   ]
  },
  {
   "cell_type": "code",
   "execution_count": 4,
   "id": "da718e4c",
   "metadata": {},
   "outputs": [
    {
     "name": "stdout",
     "output_type": "stream",
     "text": [
      "True\n",
      "False\n"
     ]
    }
   ],
   "source": [
    "# Write your solution here\n",
    "def is_valid_parentheses(s):\n",
    "    map = {')':'(','}':'{',']':'['}\n",
    "    stack = []\n",
    "    for char in s:\n",
    "        if char in map:\n",
    "            top_ele = stack.pop() if stack else '#'\n",
    "            if map[char] != top_ele:\n",
    "                return False\n",
    "        else:\n",
    "            stack.append(char)\n",
    "    return not stack\n",
    "s1 = \"()[]{}\"\n",
    "s2 = \"(]\"\n",
    "print(is_valid_parentheses(s1))\n",
    "print(is_valid_parentheses(s2))"
   ]
  },
  {
   "cell_type": "markdown",
   "id": "3e0d8329",
   "metadata": {},
   "source": [
    "## 9. Maximum Subarray Sum (Kadane's Algorithm)\n",
    "\n",
    "\n",
    "Given an integer array `nums`, find the contiguous subarray (containing at least one number) which has the largest sum and return its sum.\n",
    "\n",
    "**Example:**\n",
    "```\n",
    "Input: nums = [-2,1,-3,4,-1,2,1,-5,4]\n",
    "Output: 6\n",
    "Explanation: [4,-1,2,1] has the largest sum = 6.\n",
    "```\n",
    "        "
   ]
  },
  {
   "cell_type": "code",
   "execution_count": 6,
   "id": "7f82bf3b",
   "metadata": {},
   "outputs": [
    {
     "name": "stdout",
     "output_type": "stream",
     "text": [
      "6\n"
     ]
    }
   ],
   "source": [
    "# Write your solution here\n",
    "def max_subarray_sum(nums):\n",
    "    curr_sum = max_sum = nums[0]\n",
    "    for i in nums[1:]:\n",
    "        curr_sum = max(i, curr_sum + i)\n",
    "        max_sum = max(max_sum, curr_sum)\n",
    "    return max_sum\n",
    "\n",
    "nums = [-2,1,-3,4,-1,2,1,-5,4]\n",
    "res = max_subarray_sum(nums)\n",
    "print(res)"
   ]
  },
  {
   "cell_type": "markdown",
   "id": "a1cf293b",
   "metadata": {},
   "source": [
    "## 10. Find All Anagrams in a String\n",
    "\n",
    "\n",
    "Given two strings `s` and `p`, return an array of all the start indices of `p`'s anagrams in `s`. You may return the answer in any order.\n",
    "\n",
    "**Example:**\n",
    "```\n",
    "Input: s = \"cbaebabacd\", p = \"abc\"\n",
    "Output: [0, 6]\n",
    "Explanation: The substring starting at index 0 and 6 are \"cba\" and \"bac\", which are anagrams of \"abc\".\n",
    "```\n",
    "        "
   ]
  },
  {
   "cell_type": "code",
   "execution_count": 10,
   "id": "8b5372be",
   "metadata": {},
   "outputs": [
    {
     "name": "stdout",
     "output_type": "stream",
     "text": [
      "[0, 6]\n"
     ]
    }
   ],
   "source": [
    "# Write your solution here\n",
    "from collections import Counter\n",
    "def find_anagrams(s, p):\n",
    "    r = []\n",
    "    p_count = Counter(p)\n",
    "    s_count = Counter()\n",
    "    p_len = len(p)\n",
    "    for i in range(len(s)):\n",
    "        s_count[s[i]] += 1\n",
    "        if i>= p_len:\n",
    "            if s_count[s[i-p_len]] == 1:\n",
    "                del s_count[s[i-p_len]]\n",
    "            else:\n",
    "                s_count[s[i-p_len]] -= 1\n",
    "        if s_count == p_count:\n",
    "            r.append(i-p_len + 1)\n",
    "    return r\n",
    "\n",
    "s = \"cbaebabacd\"\n",
    "p = \"abc\"\n",
    "res = find_anagrams(s, p)\n",
    "print(res)"
   ]
  },
  {
   "cell_type": "code",
   "execution_count": null,
   "id": "76760329-bcba-41e2-9d54-49a196f4ca6c",
   "metadata": {},
   "outputs": [],
   "source": []
  }
 ],
 "metadata": {
  "kernelspec": {
   "display_name": "Python 3 (ipykernel)",
   "language": "python",
   "name": "python3"
  },
  "language_info": {
   "codemirror_mode": {
    "name": "ipython",
    "version": 3
   },
   "file_extension": ".py",
   "mimetype": "text/x-python",
   "name": "python",
   "nbconvert_exporter": "python",
   "pygments_lexer": "ipython3",
   "version": "3.11.7"
  }
 },
 "nbformat": 4,
 "nbformat_minor": 5
}
