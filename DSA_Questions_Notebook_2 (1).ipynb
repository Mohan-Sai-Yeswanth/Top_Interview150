{
 "cells": [
  {
   "cell_type": "markdown",
   "id": "85205c7b",
   "metadata": {},
   "source": [
    "\n",
    "# Data Structures and Algorithms Practice - Notebook 2\n",
    "\n",
    "This notebook contains a variety of Data Structures and Algorithms (DSA) questions covering several important topics. Use these questions for practice and enhance your problem-solving skills. Note that solutions are not provided here; attempt solving them on your own first!\n",
    "\n",
    "---\n",
    "\n",
    "### Topics Covered\n",
    "1. Binary Search\n",
    "2. Find Kth Largest Element in an Array\n",
    "3. Word Break Problem\n",
    "4. Unique Paths in a Grid\n",
    "5. Top K Frequent Elements\n",
    "6. Climbing Stairs (Dynamic Programming)\n",
    "7. Rotting Oranges (Breadth-First Search)\n",
    "8. Median of Two Sorted Arrays\n",
    "9. Combination Sum\n",
    "10. N-Queens Problem\n",
    "\n",
    "---\n",
    "\n",
    "### Instructions\n",
    "1. Read each problem carefully.\n",
    "2. Write your solution in the code cell provided below each problem statement.\n",
    "3. Test your solution with various test cases.\n",
    "\n",
    "Good luck and happy coding!\n"
   ]
  },
  {
   "cell_type": "markdown",
   "id": "e6925e62",
   "metadata": {},
   "source": [
    "### 1. Binary Search: Search for a target value in a sorted array."
   ]
  },
  {
   "cell_type": "markdown",
   "id": "733b596f",
   "metadata": {},
   "source": [
    "Given a sorted array of integers `nums` and an integer `target`, write a function to search for the target in the array. If the target exists, return its index. Otherwise, return -1.\n",
    "\n",
    "**Example:**  \n",
    "Input: nums = [-1, 0, 3, 5, 9, 12], target = 9  \n",
    "Output: 4  \n",
    "\n",
    "**Note:** You must write an algorithm with O(log n) runtime complexity.\n"
   ]
  },
  {
   "cell_type": "code",
   "execution_count": 1,
   "id": "c3e76427",
   "metadata": {},
   "outputs": [
    {
     "name": "stdout",
     "output_type": "stream",
     "text": [
      "4\n"
     ]
    }
   ],
   "source": [
    "# Write your solution here\n",
    "def binary_search(nums, target):\n",
    "    l = 0\n",
    "    h = len(nums)-1\n",
    "    while l<=h:\n",
    "        mid = (l+h)//2\n",
    "        if nums[mid] == target:\n",
    "            return mid\n",
    "        elif nums[mid] >= target:\n",
    "            h = mid - 1\n",
    "        else:\n",
    "            l = mid+1\n",
    "nums = [-1, 0, 3, 5, 9, 12]\n",
    "target = 9\n",
    "print(binary_search(nums, target))\n",
    "\n"
   ]
  },
  {
   "cell_type": "markdown",
   "id": "8958efd5",
   "metadata": {},
   "source": [
    "### 2. Find Kth Largest Element in an Array."
   ]
  },
  {
   "cell_type": "markdown",
   "id": "1d37ddef",
   "metadata": {},
   "source": [
    "Given an integer array `nums` and an integer `k`, return the `k`th largest element in the array.\n",
    "\n",
    "**Example:**  \n",
    "Input: nums = [3,2,1,5,6,4], k = 2  \n",
    "Output: 5  \n",
    "\n",
    "**Note:** It is guaranteed that 1 ≤ k ≤ nums.length.\n"
   ]
  },
  {
   "cell_type": "code",
   "execution_count": 11,
   "id": "efa59433",
   "metadata": {},
   "outputs": [
    {
     "name": "stdout",
     "output_type": "stream",
     "text": [
      "12\n"
     ]
    }
   ],
   "source": [
    "# Write your solution here\n",
    "def k_largestelement(nums, k):\n",
    "    nums.sort() \n",
    "    return nums[-k]\n",
    "\n",
    "nums = [11,5,12,4,3,1]\n",
    "k = 1\n",
    "print(k_largestelement(nums, k))\n",
    "\n",
    "    \n"
   ]
  },
  {
   "cell_type": "markdown",
   "id": "c3f9e60d",
   "metadata": {},
   "source": [
    "### 3. Word Break Problem."
   ]
  },
  {
   "cell_type": "markdown",
   "id": "fa1fb564",
   "metadata": {},
   "source": [
    "Given a string `s` and a dictionary of strings `wordDict`, return true if `s` can be segmented into a space-separated sequence of one or more dictionary words.\n",
    "\n",
    "**Example:**  \n",
    "Input: s = \"leetcode\", wordDict = [\"leet\", \"code\"]  \n",
    "Output: true  \n"
   ]
  },
  {
   "cell_type": "code",
   "execution_count": 18,
   "id": "7c403c66",
   "metadata": {},
   "outputs": [
    {
     "name": "stdout",
     "output_type": "stream",
     "text": [
      "True\n"
     ]
    }
   ],
   "source": [
    "# Write your solution here\n",
    "def word_break(s, wordDict):\n",
    "    dp  = [False] * (len(s)+1)\n",
    "    dp[0] = True\n",
    "\n",
    "    for i in range(1, len(s)+1):\n",
    "        for j in range(i):\n",
    "            if dp[j] and s[j:i] in wordDict:\n",
    "                dp[i] = True\n",
    "                break\n",
    "\n",
    "    return dp[len(s)]\n",
    "\n",
    "s = \"leetcode\"\n",
    "wordDict = [\"leet\", \"code\"]\n",
    "print(word_break(s, wordDict))\n"
   ]
  },
  {
   "cell_type": "markdown",
   "id": "8cb80c4d",
   "metadata": {},
   "source": [
    "### 4. Unique Paths in a Grid."
   ]
  },
  {
   "cell_type": "markdown",
   "id": "4c98ac68",
   "metadata": {},
   "source": [
    "A robot is located at the top-left corner of an `m x n` grid. The robot can only move either down or right at any point in time. Write a function to find how many possible unique paths the robot can take to reach the bottom-right corner.\n",
    "\n",
    "**Example:**  \n",
    "Input: m = 3, n = 7  \n",
    "Output: 28  \n"
   ]
  },
  {
   "cell_type": "code",
   "execution_count": 22,
   "id": "c3a2b610",
   "metadata": {},
   "outputs": [
    {
     "name": "stdout",
     "output_type": "stream",
     "text": [
      "28\n"
     ]
    }
   ],
   "source": [
    "# Write your solution here\n",
    "def uniquepaths(m, n):\n",
    "    dp = [[1]*n for a in range(m)]\n",
    "\n",
    "    for i in range(1, m):\n",
    "        for j in range(1, n):\n",
    "            dp[i][j] = dp[i-1][j] + dp[i][j-1]\n",
    "    return dp[m-1][n-1]\n",
    "\n",
    "m = 3\n",
    "n = 7\n",
    "print(uniquepaths(m, n))\n",
    "            \n",
    "    \n"
   ]
  },
  {
   "cell_type": "markdown",
   "id": "de4440dd",
   "metadata": {},
   "source": [
    "### 5. Top K Frequent Elements."
   ]
  },
  {
   "cell_type": "markdown",
   "id": "8fbed2cb",
   "metadata": {},
   "source": [
    "Given an integer array `nums` and an integer `k`, return the `k` most frequent elements. You may return the answer in any order.\n",
    "\n",
    "**Example:**  \n",
    "Input: nums = [1,1,1,2,2,3], k = 2  \n",
    "Output: [1,2]  \n"
   ]
  },
  {
   "cell_type": "code",
   "execution_count": 23,
   "id": "8630cab5",
   "metadata": {},
   "outputs": [
    {
     "name": "stdout",
     "output_type": "stream",
     "text": [
      "[1, 2]\n"
     ]
    }
   ],
   "source": [
    "# Write your solution here\n",
    "from collections import Counter\n",
    "\n",
    "def topKFrequent(nums, k):\n",
    "    # Count the frequency of each element in the array\n",
    "    freq_map = Counter(nums)\n",
    "    \n",
    "    # Sort the elements by frequency in descending order and return the top k\n",
    "    return [item for item, _ in freq_map.most_common(k)]\n",
    "\n",
    "# Example usage:\n",
    "nums = [1, 1, 1, 2, 2, 3]\n",
    "k = 2\n",
    "print(topKFrequent(nums, k))  # Output: [1, 2]\n"
   ]
  },
  {
   "cell_type": "markdown",
   "id": "ed72263a",
   "metadata": {},
   "source": [
    "### 6. Climbing Stairs (Dynamic Programming)."
   ]
  },
  {
   "cell_type": "markdown",
   "id": "0d7a6510",
   "metadata": {},
   "source": [
    "You are climbing a staircase. It takes `n` steps to reach the top. Each time you can either climb 1 or 2 steps. Write a function to find the number of distinct ways to climb to the top.\n",
    "\n",
    "**Example:**  \n",
    "Input: n = 3  \n",
    "Output: 3  \n"
   ]
  },
  {
   "cell_type": "code",
   "execution_count": 1,
   "id": "f7acc383",
   "metadata": {},
   "outputs": [
    {
     "name": "stdout",
     "output_type": "stream",
     "text": [
      "Number of ways to climb 3 stairs: 3\n"
     ]
    }
   ],
   "source": [
    "# Write your solution here\n",
    "def climb_stairs(n):\n",
    "    # Base cases\n",
    "    if n == 1:\n",
    "        return 1\n",
    "    if n == 2:\n",
    "        return 2\n",
    "    \n",
    "    # Dynamic Programming: Start with base cases\n",
    "    dp = [0] * (n + 1)\n",
    "    dp[1] = 1\n",
    "    dp[2] = 2\n",
    "\n",
    "    # Fill the DP array\n",
    "    for i in range(3, n + 1):\n",
    "        dp[i] = dp[i - 1] + dp[i - 2]\n",
    "\n",
    "    return dp[n]\n",
    "\n",
    "# Example usage\n",
    "n = 3\n",
    "print(f\"Number of ways to climb {n} stairs: {climb_stairs(n)}\")\n"
   ]
  },
  {
   "cell_type": "markdown",
   "id": "07dadf61",
   "metadata": {},
   "source": [
    "### 7. Rotting Oranges (Breadth-First Search)."
   ]
  },
  {
   "cell_type": "markdown",
   "id": "cb794738",
   "metadata": {},
   "source": [
    "You are given an `m x n` grid where each cell can have one of the following values:  \n",
    "- 0: empty cell.  \n",
    "- 1: fresh orange.  \n",
    "- 2: rotten orange.  \n",
    "\n",
    "Every minute, any fresh orange that is adjacent (4-directionally) to a rotten orange becomes rotten. Return the minimum number of minutes that must elapse until no cell has a fresh orange. If this is impossible, return -1.\n",
    "\n",
    "**Example:**  \n",
    "Input: grid = [[2,1,1],[1,1,0],[0,1,1]]  \n",
    "Output: 4  \n"
   ]
  },
  {
   "cell_type": "code",
   "execution_count": 2,
   "id": "4c0541e0",
   "metadata": {},
   "outputs": [
    {
     "name": "stdout",
     "output_type": "stream",
     "text": [
      "Minimum time to rot all oranges: 4\n"
     ]
    }
   ],
   "source": [
    "# Write your solution here\n",
    "from collections import deque\n",
    "\n",
    "def orangesRotting(grid):\n",
    "    rows, cols = len(grid), len(grid[0])\n",
    "    queue = deque()  # Queue to store (row, col, time) of rotten oranges\n",
    "    fresh_count = 0  # Count of fresh oranges\n",
    "    \n",
    "    # Initialize the queue and count the fresh oranges\n",
    "    for r in range(rows):\n",
    "        for c in range(cols):\n",
    "            if grid[r][c] == 2:\n",
    "                queue.append((r, c, 0))  # Append rotten orange with time 0\n",
    "            elif grid[r][c] == 1:\n",
    "                fresh_count += 1\n",
    "\n",
    "    # Directions for 4-adjacent cells\n",
    "    directions = [(0, 1), (1, 0), (0, -1), (-1, 0)]\n",
    "    time_elapsed = 0\n",
    "\n",
    "    # BFS to simulate rotting process\n",
    "    while queue:\n",
    "        r, c, time = queue.popleft()\n",
    "        time_elapsed = max(time_elapsed, time)\n",
    "        \n",
    "        for dr, dc in directions:\n",
    "            nr, nc = r + dr, c + dc\n",
    "            # If the cell is within bounds and has a fresh orange\n",
    "            if 0 <= nr < rows and 0 <= nc < cols and grid[nr][nc] == 1:\n",
    "                grid[nr][nc] = 2  # Rot the fresh orange\n",
    "                fresh_count -= 1  # Decrease fresh orange count\n",
    "                queue.append((nr, nc, time + 1))  # Add new rotten orange with updated time\n",
    "\n",
    "    # If there are still fresh oranges left, return -1\n",
    "    return time_elapsed if fresh_count == 0 else -1\n",
    "\n",
    "# Example usage\n",
    "grid = [[2,1,1],[1,1,0],[0,1,1]]\n",
    "print(f\"Minimum time to rot all oranges: {orangesRotting(grid)}\")\n"
   ]
  },
  {
   "cell_type": "markdown",
   "id": "878512c7",
   "metadata": {},
   "source": [
    "### 8. Median of Two Sorted Arrays."
   ]
  },
  {
   "cell_type": "markdown",
   "id": "7eeb860b",
   "metadata": {},
   "source": [
    "Given two sorted arrays `nums1` and `nums2` of size m and n respectively, return the median of the two sorted arrays.\n",
    "\n",
    "**Example:**  \n",
    "Input: nums1 = [1, 3], nums2 = [2]  \n",
    "Output: 2.0  \n"
   ]
  },
  {
   "cell_type": "code",
   "execution_count": 3,
   "id": "ed246f9c",
   "metadata": {},
   "outputs": [
    {
     "name": "stdout",
     "output_type": "stream",
     "text": [
      "Median: 2\n"
     ]
    }
   ],
   "source": [
    "# Write your solution here\n",
    "def findMedianSortedArrays(nums1, nums2):\n",
    "    # Ensure nums1 is the smaller array\n",
    "    if len(nums1) > len(nums2):\n",
    "        nums1, nums2 = nums2, nums1\n",
    "\n",
    "    m, n = len(nums1), len(nums2)\n",
    "    imin, imax, half_len = 0, m, (m + n + 1) // 2\n",
    "\n",
    "    while imin <= imax:\n",
    "        i = (imin + imax) // 2\n",
    "        j = half_len - i\n",
    "\n",
    "        # Check partition validity\n",
    "        if i < m and nums1[i] < nums2[j - 1]:\n",
    "            # i is too small, increase it\n",
    "            imin = i + 1\n",
    "        elif i > 0 and nums1[i - 1] > nums2[j]:\n",
    "            # i is too large, decrease it\n",
    "            imax = i - 1\n",
    "        else:\n",
    "            # i is perfect\n",
    "            max_of_left = 0\n",
    "            if i == 0:\n",
    "                max_of_left = nums2[j - 1]\n",
    "            elif j == 0:\n",
    "                max_of_left = nums1[i - 1]\n",
    "            else:\n",
    "                max_of_left = max(nums1[i - 1], nums2[j - 1])\n",
    "\n",
    "            # If odd length, return max of left\n",
    "            if (m + n) % 2 == 1:\n",
    "                return max_of_left\n",
    "\n",
    "            # If even length, calculate median\n",
    "            min_of_right = 0\n",
    "            if i == m:\n",
    "                min_of_right = nums2[j]\n",
    "            elif j == n:\n",
    "                min_of_right = nums1[i]\n",
    "            else:\n",
    "                min_of_right = min(nums1[i], nums2[j])\n",
    "\n",
    "            return (max_of_left + min_of_right) / 2.0\n",
    "\n",
    "# Example usage\n",
    "nums1 = [1, 3]\n",
    "nums2 = [2]\n",
    "print(f\"Median: {findMedianSortedArrays(nums1, nums2)}\")\n"
   ]
  },
  {
   "cell_type": "markdown",
   "id": "74719dbf",
   "metadata": {},
   "source": [
    "### 9. Combination Sum."
   ]
  },
  {
   "cell_type": "markdown",
   "id": "023a97ed",
   "metadata": {},
   "source": [
    "Given an array of distinct integers `candidates` and a target integer `target`, return a list of all unique combinations of candidates where the chosen numbers sum to `target`. You may return the combinations in any order.\n",
    "\n",
    "**Example:**  \n",
    "Input: candidates = [2,3,6,7], target = 7  \n",
    "Output: [[2,2,3],[7]]  \n"
   ]
  },
  {
   "cell_type": "code",
   "execution_count": 4,
   "id": "55d823ba",
   "metadata": {},
   "outputs": [
    {
     "name": "stdout",
     "output_type": "stream",
     "text": [
      "Combinations that sum to 7: [[2, 2, 3], [7]]\n"
     ]
    }
   ],
   "source": [
    "# Write your solution here\n",
    "def combinationSum(candidates, target):\n",
    "    def backtrack(start, target, path):\n",
    "        # Base case: if the target is 0, add the current path to the result\n",
    "        if target == 0:\n",
    "            result.append(path[:])\n",
    "            return\n",
    "        # Explore further only if the target is greater than 0\n",
    "        for i in range(start, len(candidates)):\n",
    "            if candidates[i] > target:\n",
    "                continue\n",
    "            # Include candidates[i] in the path\n",
    "            path.append(candidates[i])\n",
    "            # Recursively call backtrack with the updated target and same i (allow duplicates)\n",
    "            backtrack(i, target - candidates[i], path)\n",
    "            # Backtrack by removing the last element added\n",
    "            path.pop()\n",
    "\n",
    "    result = []\n",
    "    backtrack(0, target, [])\n",
    "    return result\n",
    "\n",
    "# Example usage\n",
    "candidates = [2, 3, 6, 7]\n",
    "target = 7\n",
    "print(f\"Combinations that sum to {target}: {combinationSum(candidates, target)}\")\n"
   ]
  },
  {
   "cell_type": "markdown",
   "id": "35a0076b",
   "metadata": {},
   "source": [
    "### 10. N-Queens Problem."
   ]
  },
  {
   "cell_type": "markdown",
   "id": "a742f995",
   "metadata": {},
   "source": [
    "The n-queens puzzle is the problem of placing `n` queens on an `n x n` chessboard such that no two queens attack each other. Write a function to return all distinct solutions to the n-queens puzzle.\n",
    "\n",
    "**Example:**  \n",
    "Input: n = 4  \n",
    "Output: [\n",
    " [\".Q..\",  // Solution 1\n",
    "  \"...Q\",\n",
    "  \"Q...\",\n",
    "  \"..Q.\"],\n",
    " [\"..Q.\",  // Solution 2\n",
    "  \"Q...\",\n",
    "  \"...Q\",\n",
    "  \".Q..\"]\n",
    "]\n"
   ]
  },
  {
   "cell_type": "code",
   "execution_count": 7,
   "id": "bfe225b6",
   "metadata": {},
   "outputs": [
    {
     "name": "stdout",
     "output_type": "stream",
     "text": [
      "Solutions for 4-Queens:\n",
      ".Q..\n",
      "...Q\n",
      "Q...\n",
      "..Q.\n",
      "\n",
      "..Q.\n",
      "Q...\n",
      "...Q\n",
      ".Q..\n",
      "\n"
     ]
    }
   ],
   "source": [
    "from collections import defaultdict\n",
    "\n",
    "def solveNQueens(n):\n",
    "    def is_safe(row, col):\n",
    "        # Check if a queen can be placed at (row, col)\n",
    "        return not cols[col] and not diagonals[row - col] and not anti_diagonals[row + col]\n",
    "\n",
    "    def place_queen(row, col):\n",
    "        # Place a queen and mark the corresponding columns and diagonals\n",
    "        cols[col] = diagonals[row - col] = anti_diagonals[row + col] = True\n",
    "        board[row][col] = \"Q\"\n",
    "\n",
    "    def remove_queen(row, col):\n",
    "        # Remove a queen and unmark the corresponding columns and diagonals\n",
    "        cols[col] = diagonals[row - col] = anti_diagonals[row + col] = False\n",
    "        board[row][col] = \".\"\n",
    "\n",
    "    def backtrack(row):\n",
    "        if row == n:\n",
    "            # Found a solution; add it to results\n",
    "            result.append([\"\".join(r) for r in board])\n",
    "            return\n",
    "\n",
    "        for col in range(n):\n",
    "            if is_safe(row, col):\n",
    "                place_queen(row, col)  # Place queen\n",
    "                backtrack(row + 1)     # Recur to next row\n",
    "                remove_queen(row, col) # Backtrack\n",
    "\n",
    "    # Initialize variables\n",
    "    cols = [False] * n  # Column attack tracking\n",
    "    diagonals = defaultdict(bool)  # Diagonal attack tracking (row - col)\n",
    "    anti_diagonals = defaultdict(bool)  # Anti-diagonal attack tracking (row + col)\n",
    "    board = [[\".\"] * n for _ in range(n)]  # Chessboard\n",
    "    result = []\n",
    "\n",
    "    backtrack(0)\n",
    "    return result\n",
    "\n",
    "# Example usage\n",
    "n = 4\n",
    "solutions = solveNQueens(n)\n",
    "print(f\"Solutions for {n}-Queens:\")\n",
    "for sol in solutions:\n",
    "    for row in sol:\n",
    "        print(row)\n",
    "    print()\n"
   ]
  },
  {
   "cell_type": "code",
   "execution_count": null,
   "id": "ba9bc3f3-b94e-41a2-a1c6-635fe045ddf9",
   "metadata": {},
   "outputs": [],
   "source": []
  }
 ],
 "metadata": {
  "kernelspec": {
   "display_name": "Python 3 (ipykernel)",
   "language": "python",
   "name": "python3"
  },
  "language_info": {
   "codemirror_mode": {
    "name": "ipython",
    "version": 3
   },
   "file_extension": ".py",
   "mimetype": "text/x-python",
   "name": "python",
   "nbconvert_exporter": "python",
   "pygments_lexer": "ipython3",
   "version": "3.11.7"
  }
 },
 "nbformat": 4,
 "nbformat_minor": 5
}
